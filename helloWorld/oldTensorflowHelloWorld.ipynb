{
 "cells": [
  {
   "cell_type": "code",
   "execution_count": null,
   "id": "ac6c471f",
   "metadata": {},
   "outputs": [],
   "source": [
    "import tensorflow as tf\n",
    "import numpy as np\n",
    "from tensorflow import keras"
   ]
  },
  {
   "cell_type": "code",
   "execution_count": null,
   "id": "470296fb",
   "metadata": {},
   "outputs": [],
   "source": [
    "# creates a neural network of one neuron and one value\n",
    "model = tf.keras.Sequential([keras.layers.Dense(units = 1, input_shape=[1])])\n",
    "# loss = 'mean_squared_error' defines how good or bad the current prediction is and optimizer - 'sgd' adjusts accordingly\n",
    "model.compile(optimizer = 'sgd', loss = 'mean_squared_error')\n",
    "\n",
    "xs = np.array([-1.0, 0.0, 1.0, 2.0, 3.0, 4.0], dtype=float)\n",
    "ys = np.array([-2.0, 1.0, 4.0, 7.0, 10.0, 13.0], dtype=float)"
   ]
  },
  {
   "cell_type": "code",
   "execution_count": null,
   "id": "5e2762f2",
   "metadata": {},
   "outputs": [],
   "source": [
    "# trains for this many steps\n",
    "model.fit(xs, ys, epochs=500)"
   ]
  }
 ],
 "metadata": {
  "kernelspec": {
   "display_name": "tensorflow",
   "language": "python",
   "name": "python3"
  },
  "language_info": {
   "codemirror_mode": {
    "name": "ipython",
    "version": 3
   },
   "file_extension": ".py",
   "mimetype": "text/x-python",
   "name": "python",
   "nbconvert_exporter": "python",
   "pygments_lexer": "ipython3",
   "version": "3.10.14"
  }
 },
 "nbformat": 4,
 "nbformat_minor": 5
}
