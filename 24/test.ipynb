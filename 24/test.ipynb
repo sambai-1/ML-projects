{
 "cells": [
  {
   "cell_type": "code",
   "execution_count": 7,
   "id": "97f73e8d",
   "metadata": {},
   "outputs": [],
   "source": [
    "import torch"
   ]
  },
  {
   "cell_type": "code",
   "execution_count": 8,
   "id": "a43bb0dd",
   "metadata": {},
   "outputs": [
    {
     "data": {
      "text/plain": [
       "True"
      ]
     },
     "execution_count": 8,
     "metadata": {},
     "output_type": "execute_result"
    }
   ],
   "source": [
    "torch.cuda.is_available()"
   ]
  },
  {
   "cell_type": "code",
   "execution_count": null,
   "id": "de6690a0",
   "metadata": {},
   "outputs": [],
   "source": [
    "#ISTG i spent the last entire morning tyring to figure this out and turns out theres just a specific pytorch-gpu option on conda forge??? and so your saying i didnt have to go through that annoying pip install format that appears when i google pytorch cuda installation like wtf is this bro ts pmo."
   ]
  }
 ],
 "metadata": {
  "kernelspec": {
   "display_name": "torchCuda",
   "language": "python",
   "name": "python3"
  },
  "language_info": {
   "codemirror_mode": {
    "name": "ipython",
    "version": 3
   },
   "file_extension": ".py",
   "mimetype": "text/x-python",
   "name": "python",
   "nbconvert_exporter": "python",
   "pygments_lexer": "ipython3",
   "version": "3.12.11"
  }
 },
 "nbformat": 4,
 "nbformat_minor": 5
}
