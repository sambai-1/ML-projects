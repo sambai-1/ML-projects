{
 "cells": [
  {
   "cell_type": "code",
   "execution_count": null,
   "id": "409d0592",
   "metadata": {},
   "outputs": [],
   "source": [
    "import torch\n",
    "import torch.nn as nn\n",
    "import torch.nn.functional as F\n",
    "from torchvision import transforms, models\n",
    "from PIL import Image\n",
    "import sys"
   ]
  },
  {
   "cell_type": "code",
   "execution_count": null,
   "id": "0bbb968a",
   "metadata": {},
   "outputs": [],
   "source": [
    "CHARS = \"ABCDEFGHIJKLMNOPQRSTUVWXYZ0123456789\"\n",
    "NUM_CLASSES = 37 # 36 + 1 blank"
   ]
  },
  {
   "cell_type": "code",
   "execution_count": null,
   "id": "663584a3",
   "metadata": {},
   "outputs": [],
   "source": [
    "class OCR(nn.Module):\n",
    "    def __init__(self):\n",
    "        super().__init__()\n",
    "        resnet = models.resnet50(pretrained=True)\n",
    "        modules = list(resnet.children())[:-2]\n",
    "        self.features = nn.Sequential(*modules)\n",
    "\n",
    "        self.rnn = nn.LSTM(512, 128, num_layers=2, bidirectional=True, batch_first=True)\n",
    "        self.classify = nn.Linear(128 * 2, NUM_CLASSES) \n",
    "\n",
    "    def forward(self, x):\n",
    "        x = self.features(x)\n",
    "        x = x.permute(0, 3, 1, 2) \n",
    "        x = x.flatten(2)\n",
    "        rnn = self.rnn(x)\n",
    "        result = self.classify(rnn)\n",
    "        return result"
   ]
  },
  {
   "cell_type": "code",
   "execution_count": null,
   "id": "9b3ad363",
   "metadata": {},
   "outputs": [],
   "source": [
    "def decode(result):\n",
    "    pred = result.argmax(-1).squeeze(0).tolist()\n",
    "    prev = -1\n",
    "    output = []\n",
    "    for p in pred:\n",
    "        if p != prev and p != len(CHARS):\n",
    "            output.append(CHARS[p])\n",
    "        prev = p\n",
    "    return ''.join(output)"
   ]
  },
  {
   "cell_type": "code",
   "execution_count": null,
   "id": "f5e17ae3",
   "metadata": {},
   "outputs": [],
   "source": [
    "features = feature_extractor(images)\n",
    "features = features.permute(0, 3, 1, 2) \n",
    "features = features.flatten(2) "
   ]
  },
  {
   "cell_type": "code",
   "execution_count": null,
   "id": "e2198939",
   "metadata": {},
   "outputs": [],
   "source": [
    "self.rnn = nn.LSTM(input_size=feature_dim, hidden_size=128, bidirectional=True, batch_first=True)\n",
    "self.classifier = nn.Linear(256, num_classes)"
   ]
  }
 ],
 "metadata": {
  "language_info": {
   "name": "python"
  }
 },
 "nbformat": 4,
 "nbformat_minor": 5
}
