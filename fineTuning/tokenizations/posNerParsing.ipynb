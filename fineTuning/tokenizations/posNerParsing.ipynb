{
 "cells": [
  {
   "cell_type": "code",
   "execution_count": 1,
   "id": "104cc064",
   "metadata": {},
   "outputs": [],
   "source": [
    "import spacy\n",
    "nlp = spacy.load('en_core_web_sm')\n",
    "s = \"John watched an old movie at the cinema.\"\n",
    "doc = nlp(s)\n",
    "#https://www.nlpdemystified.org/course/advanced-preprocessing"
   ]
  },
  {
   "cell_type": "code",
   "execution_count": 2,
   "id": "3914798f",
   "metadata": {},
   "outputs": [
    {
     "data": {
      "text/plain": [
       "[('John', 'PROPN'),\n",
       " ('watched', 'VERB'),\n",
       " ('an', 'DET'),\n",
       " ('old', 'ADJ'),\n",
       " ('movie', 'NOUN'),\n",
       " ('at', 'ADP'),\n",
       " ('the', 'DET'),\n",
       " ('cinema', 'NOUN'),\n",
       " ('.', 'PUNCT')]"
      ]
     },
     "execution_count": 2,
     "metadata": {},
     "output_type": "execute_result"
    }
   ],
   "source": [
    "[(t.text, t.pos_) for t in doc] # spacy.explain('PROPN')"
   ]
  },
  {
   "cell_type": "code",
   "execution_count": 3,
   "id": "12c25a69",
   "metadata": {},
   "outputs": [
    {
     "data": {
      "text/plain": [
       "[('John', 'NNP'),\n",
       " ('watched', 'VBD'),\n",
       " ('an', 'DT'),\n",
       " ('old', 'JJ'),\n",
       " ('movie', 'NN'),\n",
       " ('at', 'IN'),\n",
       " ('the', 'DT'),\n",
       " ('cinema', 'NN'),\n",
       " ('.', '.')]"
      ]
     },
     "execution_count": 3,
     "metadata": {},
     "output_type": "execute_result"
    }
   ],
   "source": [
    "[(t.text, t.tag_) for t in doc] # print(spacy.explain('NNP'))"
   ]
  },
  {
   "cell_type": "code",
   "execution_count": 4,
   "id": "4f989210",
   "metadata": {},
   "outputs": [
    {
     "data": {
      "text/plain": [
       "[('Volkswagen', 'ORG'),\n",
       " ('is', ''),\n",
       " ('developing', ''),\n",
       " ('an', ''),\n",
       " ('electric', ''),\n",
       " ('sedan', ''),\n",
       " ('which', ''),\n",
       " ('could', ''),\n",
       " ('potentially', ''),\n",
       " ('come', ''),\n",
       " ('to', ''),\n",
       " ('America', 'GPE'),\n",
       " ('next', 'DATE'),\n",
       " ('fall', 'DATE'),\n",
       " ('.', '')]"
      ]
     },
     "execution_count": 4,
     "metadata": {},
     "output_type": "execute_result"
    }
   ],
   "source": [
    "# 1 to 1 relation\n",
    "s = \"Volkswagen is developing an electric sedan which could potentially come to America next fall.\"\n",
    "doc = nlp(s)\n",
    "\n",
    "[(t.text, t.ent_type_) for t in doc] # spacy.explain('GPE')"
   ]
  },
  {
   "cell_type": "code",
   "execution_count": 5,
   "id": "eab146b1",
   "metadata": {},
   "outputs": [
    {
     "name": "stdout",
     "output_type": "stream",
     "text": [
      "[('Volkswagen', 'ORG'), ('America', 'GPE'), ('next', 'DATE'), ('fall', 'DATE')]\n"
     ]
    }
   ],
   "source": [
    "# things that are not blank often have a nonzero value associated\n",
    "print([(t.text, t.ent_type_) for t in doc if t.ent_type != 0])"
   ]
  },
  {
   "cell_type": "code",
   "execution_count": 6,
   "id": "553f7407",
   "metadata": {},
   "outputs": [
    {
     "data": {
      "text/plain": [
       "[('Volkswagen', 'ORG'), ('America', 'GPE'), ('next fall', 'DATE')]"
      ]
     },
     "execution_count": 6,
     "metadata": {},
     "output_type": "execute_result"
    }
   ],
   "source": [
    "# other way to parse through doc.ents itself\n",
    "[(ent.text, ent.label_) for ent in doc.ents]"
   ]
  },
  {
   "cell_type": "code",
   "execution_count": 8,
   "id": "23393e19",
   "metadata": {},
   "outputs": [
    {
     "ename": "ImportError",
     "evalue": "cannot import name 'display' from 'IPython.core.display' (/opt/anaconda3/envs/torch/lib/python3.11/site-packages/IPython/core/display.py)",
     "output_type": "error",
     "traceback": [
      "\u001b[31m---------------------------------------------------------------------------\u001b[39m",
      "\u001b[31mImportError\u001b[39m                               Traceback (most recent call last)",
      "\u001b[36mCell\u001b[39m\u001b[36m \u001b[39m\u001b[32mIn[8]\u001b[39m\u001b[32m, line 6\u001b[39m\n\u001b[32m      1\u001b[39m \u001b[38;5;28;01mfrom\u001b[39;00m\u001b[38;5;250m \u001b[39m\u001b[34;01mspacy\u001b[39;00m\u001b[38;5;250m \u001b[39m\u001b[38;5;28;01mimport\u001b[39;00m displacy\n\u001b[32m      2\u001b[39m \u001b[38;5;66;03m# jupyter to true else provides html\u001b[39;00m\n\u001b[32m      3\u001b[39m \n\u001b[32m      4\u001b[39m \u001b[38;5;66;03m# doesnt work cuz spacy wants to import it from ipython.core.display when i think modenr versions is from IPython.core import display\u001b[39;00m\n\u001b[32m----> \u001b[39m\u001b[32m6\u001b[39m \u001b[43mdisplacy\u001b[49m\u001b[43m.\u001b[49m\u001b[43mrender\u001b[49m\u001b[43m(\u001b[49m\u001b[43mdoc\u001b[49m\u001b[43m,\u001b[49m\u001b[43m \u001b[49m\u001b[43mstyle\u001b[49m\u001b[43m=\u001b[49m\u001b[33;43m'\u001b[39;49m\u001b[33;43ment\u001b[39;49m\u001b[33;43m'\u001b[39;49m\u001b[43m,\u001b[49m\u001b[43m \u001b[49m\u001b[43mjupyter\u001b[49m\u001b[43m=\u001b[49m\u001b[38;5;28;43;01mTrue\u001b[39;49;00m\u001b[43m)\u001b[49m\n",
      "\u001b[36mFile \u001b[39m\u001b[32m/opt/anaconda3/envs/torch/lib/python3.11/site-packages/spacy/displacy/__init__.py:69\u001b[39m, in \u001b[36mrender\u001b[39m\u001b[34m(docs, style, page, minify, jupyter, options, manual)\u001b[39m\n\u001b[32m     65\u001b[39m     html = RENDER_WRAPPER(html)\n\u001b[32m     66\u001b[39m \u001b[38;5;28;01mif\u001b[39;00m jupyter \u001b[38;5;129;01mor\u001b[39;00m (jupyter \u001b[38;5;129;01mis\u001b[39;00m \u001b[38;5;28;01mNone\u001b[39;00m \u001b[38;5;129;01mand\u001b[39;00m is_in_jupyter()):\n\u001b[32m     67\u001b[39m     \u001b[38;5;66;03m# return HTML rendered by IPython display()\u001b[39;00m\n\u001b[32m     68\u001b[39m     \u001b[38;5;66;03m# See #4840 for details on span wrapper to disable mathjax\u001b[39;00m\n\u001b[32m---> \u001b[39m\u001b[32m69\u001b[39m     \u001b[38;5;28;01mfrom\u001b[39;00m\u001b[38;5;250m \u001b[39m\u001b[34;01mIPython\u001b[39;00m\u001b[34;01m.\u001b[39;00m\u001b[34;01mcore\u001b[39;00m\u001b[34;01m.\u001b[39;00m\u001b[34;01mdisplay\u001b[39;00m\u001b[38;5;250m \u001b[39m\u001b[38;5;28;01mimport\u001b[39;00m HTML, display\n\u001b[32m     71\u001b[39m     \u001b[38;5;28;01mreturn\u001b[39;00m display(HTML(\u001b[33m'\u001b[39m\u001b[33m<span class=\u001b[39m\u001b[33m\"\u001b[39m\u001b[33mtex2jax_ignore\u001b[39m\u001b[33m\"\u001b[39m\u001b[33m>\u001b[39m\u001b[38;5;132;01m{}\u001b[39;00m\u001b[33m</span>\u001b[39m\u001b[33m'\u001b[39m.format(html)))\n\u001b[32m     72\u001b[39m \u001b[38;5;28;01mreturn\u001b[39;00m html\n",
      "\u001b[31mImportError\u001b[39m: cannot import name 'display' from 'IPython.core.display' (/opt/anaconda3/envs/torch/lib/python3.11/site-packages/IPython/core/display.py)"
     ]
    }
   ],
   "source": [
    "\n",
    "from spacy import displacy\n",
    "# jupyter to true else provides html\n",
    "\n",
    "# doesnt work cuz spacy wants to import it from ipython.core.display when i think modenr versions is from IPython.core import display\n",
    "\n",
    "displacy.render(doc, style='ent', jupyter=True)"
   ]
  },
  {
   "cell_type": "code",
   "execution_count": 9,
   "id": "030662ab",
   "metadata": {},
   "outputs": [
    {
     "data": {
      "text/plain": [
       "[('She', 'nsubj', 'enrolled'),\n",
       " ('enrolled', 'ROOT', 'enrolled'),\n",
       " ('in', 'prep', 'enrolled'),\n",
       " ('the', 'det', 'course'),\n",
       " ('course', 'pobj', 'in'),\n",
       " ('at', 'prep', 'enrolled'),\n",
       " ('the', 'det', 'university'),\n",
       " ('university', 'pobj', 'at'),\n",
       " ('.', 'punct', 'enrolled')]"
      ]
     },
     "execution_count": 9,
     "metadata": {},
     "output_type": "execute_result"
    }
   ],
   "source": [
    "s = \"She enrolled in the course at the university.\"\n",
    "doc = nlp(s)\n",
    "[(t.text, t.dep_, t.head.text) for t in doc] # spacy.explain('nsubj')\n",
    "# has the word, what the relation to the head is. "
   ]
  },
  {
   "cell_type": "code",
   "execution_count": 10,
   "id": "c53f463f",
   "metadata": {},
   "outputs": [
    {
     "name": "stdout",
     "output_type": "stream",
     "text": [
      "Matches: ['book a hotel', 'book a hotel room']\n"
     ]
    }
   ],
   "source": [
    "# matching in a sentence to find patterns\n",
    "from spacy.matcher import Matcher\n",
    "\n",
    "# initialize with a vocab\n",
    "matcher = Matcher(nlp.vocab)\n",
    "\n",
    "s = \"I want to book a hotel room.\"\n",
    "doc = nlp(s)\n",
    "\n",
    "# pattern is what type of sequence we are looking for\n",
    "# we are looking for book, followed by (?) zero or one determinants, followed by one or more nouns\n",
    "pattern = [\n",
    "{'TEXT': 'book'},\n",
    "{'POS': 'DET', 'OP': '?'},\n",
    "{'POS': 'NOUN', 'OP': '+'},\n",
    "]\n",
    "\n",
    "matcher.add('#Pattern Name', [pattern])\n",
    "matches = matcher(doc)\n",
    "\n",
    "print(\"Matches:\", [doc[start:end].text for match_id, start, end in matches])"
   ]
  },
  {
   "cell_type": "code",
   "execution_count": 11,
   "id": "99d03dda",
   "metadata": {},
   "outputs": [
    {
     "name": "stdout",
     "output_type": "stream",
     "text": [
      "I\n",
      "a flight and hotel room\n",
      "Berlin\n",
      "phrase: I, root head: want\n",
      "phrase: a flight and hotel room, root head: book\n",
      "phrase: Berlin, root head: in\n"
     ]
    }
   ],
   "source": [
    "# for more robust matchers, use Name Entity Recognition or Part of Speech\n",
    "doc = nlp(\"I want to book a flight and hotel room in Berlin.\")\n",
    "for noun_phrase in doc.noun_chunks:\n",
    "    print(noun_phrase)\n",
    "for noun_phrase in doc.noun_chunks:\n",
    "    print(\"phrase: {}, root head: {}\".format(noun_phrase, noun_phrase.root.head))"
   ]
  },
  {
   "cell_type": "code",
   "execution_count": 12,
   "id": "f4f5b781",
   "metadata": {},
   "outputs": [],
   "source": [
    "def yodize(s: str):\n",
    "  doc = nlp(s)\n",
    "  for t in doc:\n",
    "    if t.dep_ == \"ROOT\":\n",
    "        print(t.text)\n",
    "      # Assuming our sentence is of the form subject-verb-object, we take \n",
    "      # everything after the root (likely verb) and put it in front, and \n",
    "      # likewise take everything before the root, and put it after.\n",
    "        seq = [doc[t.i + 1: -1].text, doc[0: t.i].text, t.text + '.']\n",
    "        seq[0] = seq[0].capitalize()\n",
    "        print(' '.join(seq))"
   ]
  },
  {
   "cell_type": "code",
   "execution_count": 13,
   "id": "1b6d6e8f",
   "metadata": {},
   "outputs": [
    {
     "name": "stdout",
     "output_type": "stream",
     "text": [
      "fly\n",
      "To texas I will fly.\n"
     ]
    }
   ],
   "source": [
    "yodize(\"I will fly to Texas.\")"
   ]
  },
  {
   "cell_type": "code",
   "execution_count": 14,
   "id": "9952935c",
   "metadata": {},
   "outputs": [
    {
     "data": {
      "text/plain": [
       "[('Osaka', 'GPE'), ('Feb 13th', 'DATE'), ('Feb 24th', 'DATE')]"
      ]
     },
     "execution_count": 14,
     "metadata": {},
     "output_type": "execute_result"
    }
   ],
   "source": [
    "#\n",
    "# EXERCISE: using doc.ents, identify and print the dates in this sentence.\n",
    "# Expected output: ['Feb 13th', 'Feb 24th']\n",
    "#\n",
    "s = \"We'll be in Osaka on Feb 13th and leave on Feb 24th.\"\n",
    "doc = nlp(s)\n",
    "[(ent.text, ent.label_) for ent in doc.ents] # i could just sort by dates"
   ]
  },
  {
   "cell_type": "code",
   "execution_count": 15,
   "id": "1caa0e33",
   "metadata": {},
   "outputs": [
    {
     "name": "stdout",
     "output_type": "stream",
     "text": [
      "Matches: ['Feb', '13th', 'Feb', '24th']\n"
     ]
    }
   ],
   "source": [
    "pattern = [\n",
    "    {'ENT_TYPE': 'DATE'},\n",
    "]\n",
    "\n",
    "matcher.add('#Pattern Name', [pattern])\n",
    "matches = matcher(doc)\n",
    "\n",
    "print(\"Matches:\", [doc[start:end].text for match_id, start, end in matches])"
   ]
  }
 ],
 "metadata": {
  "kernelspec": {
   "display_name": "torch",
   "language": "python",
   "name": "python3"
  },
  "language_info": {
   "codemirror_mode": {
    "name": "ipython",
    "version": 3
   },
   "file_extension": ".py",
   "mimetype": "text/x-python",
   "name": "python",
   "nbconvert_exporter": "python",
   "pygments_lexer": "ipython3",
   "version": "3.11.12"
  }
 },
 "nbformat": 4,
 "nbformat_minor": 5
}
