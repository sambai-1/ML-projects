{
 "cells": [
  {
   "cell_type": "code",
   "execution_count": 2,
   "id": "dc113ee5",
   "metadata": {},
   "outputs": [],
   "source": [
    "# conda install conda-forge::bpemb\n",
    "from bpemb import BPEmb"
   ]
  },
  {
   "cell_type": "code",
   "execution_count": 3,
   "id": "5240d73c",
   "metadata": {},
   "outputs": [],
   "source": [
    "bpemb_en = BPEmb(\n",
    "    lang=\"en\",\n",
    "    vs=10000,\n",
    "    dim=100,\n",
    "    cache_dir=\"data\",\n",
    "    model_file=\"../../data/bpemb/bpemb.model\",\n",
    "    emb_file=\"../../data/bpemb/bpemb_vectors.txt\"\n",
    ")"
   ]
  },
  {
   "cell_type": "code",
   "execution_count": 4,
   "id": "480d24b2",
   "metadata": {},
   "outputs": [
    {
     "name": "stdout",
     "output_type": "stream",
     "text": [
      "[-0.305548 -0.325598 -0.134716 -0.078735 -0.660545  0.076211 -0.735487\n",
      "  0.124533 -0.294402  0.459688  0.030137  0.174041 -0.224223  0.486189\n",
      " -0.504649 -0.459699  0.315747  0.477885  0.091398  0.427867  0.016524\n",
      " -0.076833 -0.899727  0.493158 -0.022309 -0.422785 -0.154148  0.204981\n",
      "  0.379834  0.070588  0.196073 -0.368222  0.473406  0.007409  0.004303\n",
      " -0.007823 -0.19103  -0.202509  0.109878 -0.224521 -0.35741  -0.611633\n",
      "  0.329958 -0.212956 -0.497499 -0.393839 -0.130101 -0.216903 -0.105595\n",
      " -0.076007 -0.483942 -0.139704 -0.161647  0.136985  0.415363 -0.360143\n",
      "  0.038601 -0.078804 -0.030421  0.324129  0.223378 -0.523636 -0.048317\n",
      " -0.032248 -0.117367  0.470519  0.225816 -0.222065 -0.225007 -0.165904\n",
      " -0.334389 -0.20157   0.572352 -0.268794  0.301929 -0.005563  0.387491\n",
      "  0.261031 -0.11613   0.074982 -0.008433  0.259987 -0.099893 -0.268875\n",
      " -0.054047 -0.534776 -0.111101 -0.051742  0.214114  0.04293   0.039873\n",
      " -0.453112  0.087382 -0.333201 -0.034079 -0.833045  0.155232 -1.132393\n",
      " -0.294766  0.327572]\n"
     ]
    }
   ],
   "source": [
    "print(bpemb_en.vectors[bpemb_en.words.index('car')])\n"
   ]
  },
  {
   "cell_type": "code",
   "execution_count": 5,
   "id": "504288ee",
   "metadata": {},
   "outputs": [
    {
     "name": "stdout",
     "output_type": "stream",
     "text": [
      "['▁where', '▁can', '▁i', '▁find', '▁a', '▁p', 'iz', 'zer', 'ia', '?']\n",
      "tensor([ 571,  280,  386, 1934,    4,   24,  248, 4339,  177, 9967])\n"
     ]
    }
   ],
   "source": [
    "sample_sentence = \"Where can I find a pizzeria?\"\n",
    "tokens = bpemb_en.encode(sample_sentence)\n",
    "print(tokens)\n",
    "\n",
    "import torch\n",
    "device = 'cpu'\n",
    "token_seq = torch.tensor(bpemb_en.encode_ids(\"Where can I find a pizzeria?\")).to(device)\n",
    "print(token_seq)"
   ]
  },
  {
   "cell_type": "code",
   "execution_count": 6,
   "id": "1869c39e",
   "metadata": {},
   "outputs": [
    {
     "name": "stdout",
     "output_type": "stream",
     "text": [
      "Embeddings for:  Where can I find a pizzeria?\n",
      "tensor([[ 0.0487, -0.0395, -0.0061, -1.3340, -1.6241,  0.9888, -0.3754, -1.3920,\n",
      "         -0.4376, -1.2552, -0.1572,  0.2396],\n",
      "        [ 0.4480,  0.2035,  0.3438, -0.2572,  0.5632, -0.0920, -0.5023, -1.6056,\n",
      "          0.9267, -0.0363, -1.2019,  0.9280],\n",
      "        [ 2.5911, -1.1953, -0.0458,  0.3786, -1.7280,  0.5371, -0.7493, -1.0576,\n",
      "          0.9983,  0.5340, -1.2885, -0.6720],\n",
      "        [-0.6151, -1.3542, -0.0313, -0.0998, -0.6654,  0.7459,  0.1146, -1.3325,\n",
      "         -0.2532, -1.1519,  1.3841,  0.6176],\n",
      "        [ 0.6978,  1.4558,  0.1363, -0.2832, -1.4323, -0.3438, -0.2230, -1.4938,\n",
      "         -0.5392,  1.8805,  0.6944, -1.6687],\n",
      "        [-1.0916, -0.2567, -0.6753, -0.7824, -1.8704, -0.2698,  0.5987,  0.5320,\n",
      "         -0.7272,  0.2474,  0.6123, -0.5436],\n",
      "        [-2.5794,  0.3079, -0.5116,  0.4259, -1.6618,  0.1653, -1.5554, -1.1099,\n",
      "         -0.2248, -0.1615,  0.5103,  1.2684],\n",
      "        [-0.6550, -0.1928, -0.9535, -1.9223,  1.0531, -0.5353, -0.3941, -0.4250,\n",
      "          0.2458,  1.3016, -0.4373,  0.6902],\n",
      "        [-1.3888,  1.9153, -0.3473, -2.2148, -0.9837,  0.7731,  0.7430,  0.6575,\n",
      "         -1.0685, -0.2456, -1.6392,  0.3594],\n",
      "        [-0.6519, -1.3077, -0.1306, -0.3386, -0.8118,  1.4268, -0.2075, -0.7238,\n",
      "          1.0738, -0.2757,  0.4107, -1.8555]], grad_fn=<EmbeddingBackward0>)\n"
     ]
    }
   ],
   "source": [
    "bpemb_vocab_size, bpemb_embed_size = bpemb_en.vectors.shape\n",
    "embed_dim = 12\n",
    "token_embedding = torch.nn.Embedding(bpemb_vocab_size, embed_dim).to(device)\n",
    "token_embeddings = token_embedding(token_seq)\n",
    "\n",
    "# The untrained embeddings for our sample sentence.\n",
    "print(\"Embeddings for: \", sample_sentence)\n",
    "print(token_embeddings)"
   ]
  },
  {
   "cell_type": "code",
   "execution_count": 7,
   "id": "676a5a4e",
   "metadata": {},
   "outputs": [
    {
     "name": "stdout",
     "output_type": "stream",
     "text": [
      "tensor([0, 1, 2, 3, 4, 5, 6, 7, 8, 9])\n",
      "Embeddings for:  Where can I find a pizzeria?\n",
      "tensor([[-4.6548e-01, -1.7531e+00,  1.1636e+00,  1.3516e+00,  3.2057e-01,\n",
      "         -1.2374e+00,  1.6545e-01,  6.0048e-01, -4.8345e-01, -7.2730e-01,\n",
      "          1.3202e+00, -1.1517e+00],\n",
      "        [ 8.9537e-01,  9.5846e-01, -2.2149e-01, -1.5378e+00,  4.1604e-02,\n",
      "         -1.5268e+00,  1.9332e+00, -1.0371e-01, -8.3778e-02,  6.0431e-01,\n",
      "          5.0961e-02,  3.5628e-01],\n",
      "        [-1.6337e+00,  6.5760e-01,  5.6695e-01, -9.3366e-01, -1.2522e+00,\n",
      "          2.9134e-02,  9.2721e-01, -1.8085e+00, -7.6743e-02, -9.5599e-01,\n",
      "          1.4144e+00, -3.9051e-01],\n",
      "        [ 4.8702e-01,  2.9975e-01, -1.3919e+00,  2.6704e-01, -5.6298e-01,\n",
      "          2.0309e-01, -2.7600e+00,  1.1450e-01, -2.3124e-01, -6.8432e-01,\n",
      "         -3.2948e-01,  2.1939e+00],\n",
      "        [-2.3476e-01,  7.2402e-01,  4.2270e-01, -8.9768e-02, -1.0313e-01,\n",
      "         -4.7172e-01,  1.4633e+00,  8.3125e-01, -3.9950e-01,  7.6724e-01,\n",
      "          5.2153e-01, -7.1896e-01],\n",
      "        [ 2.2334e-01,  4.1248e-04, -3.0885e+00, -3.8863e-01,  1.2960e-01,\n",
      "         -5.3433e-01,  1.6159e+00, -1.0754e+00,  3.1282e-01, -1.2046e+00,\n",
      "          4.3892e-01,  6.5551e-01],\n",
      "        [-6.7279e-01, -8.5474e-01,  1.0714e+00, -1.6793e+00, -1.2613e+00,\n",
      "         -6.0432e-01,  2.7370e+00, -1.2644e+00,  6.3196e-01, -1.2527e+00,\n",
      "         -7.2866e-01, -1.4526e-01],\n",
      "        [-1.7117e+00, -5.0424e-01, -8.0558e-01,  2.4074e-02,  7.5710e-01,\n",
      "         -7.9115e-01, -8.9118e-01, -1.1242e+00, -9.9379e-01, -1.4263e+00,\n",
      "          5.1731e-01,  2.2471e-02],\n",
      "        [-3.0523e-01,  9.9722e-01,  5.8045e-01, -4.0559e-01,  8.3208e-01,\n",
      "          8.1755e-01, -2.9493e+00,  8.5836e-01, -6.8943e-01,  8.5135e-01,\n",
      "         -8.4875e-01,  1.3128e+00],\n",
      "        [-2.2792e-01, -1.4893e+00, -1.1533e-01,  1.8547e+00, -9.8433e-01,\n",
      "          8.1560e-01,  2.8470e-01,  6.6281e-01, -1.4212e+00,  4.5616e-01,\n",
      "          1.1258e+00,  9.9106e-02]], grad_fn=<EmbeddingBackward0>)\n"
     ]
    }
   ],
   "source": [
    "#positional information now\n",
    "max_seq_len = 256\n",
    "position_embedding = torch.nn.Embedding(max_seq_len, embed_dim).to(device)\n",
    "\n",
    "pos_idx = torch.tensor(list(range(len(token_seq)))).to(device)\n",
    "print(pos_idx)\n",
    "\n",
    "position_embeddings = position_embedding(pos_idx)\n",
    "print(\"Embeddings for: \", sample_sentence)\n",
    "print(position_embeddings)\n",
    "\n",
    "input = position_embeddings + token_embeddings"
   ]
  },
  {
   "cell_type": "code",
   "execution_count": null,
   "id": "b66ae5d0",
   "metadata": {},
   "outputs": [],
   "source": []
  }
 ],
 "metadata": {
  "kernelspec": {
   "display_name": "torch",
   "language": "python",
   "name": "python3"
  },
  "language_info": {
   "codemirror_mode": {
    "name": "ipython",
    "version": 3
   },
   "file_extension": ".py",
   "mimetype": "text/x-python",
   "name": "python",
   "nbconvert_exporter": "python",
   "pygments_lexer": "ipython3",
   "version": "3.11.13"
  }
 },
 "nbformat": 4,
 "nbformat_minor": 5
}
