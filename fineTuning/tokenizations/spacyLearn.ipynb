{
 "cells": [
  {
   "cell_type": "code",
   "execution_count": 1,
   "id": "2b73b0fb",
   "metadata": {},
   "outputs": [],
   "source": [
    "import spacy \n",
    "# some powerful stuff"
   ]
  },
  {
   "cell_type": "code",
   "execution_count": 2,
   "id": "b0728a0d",
   "metadata": {},
   "outputs": [],
   "source": [
    "nlp = spacy.load('en_core_web_sm')"
   ]
  },
  {
   "cell_type": "code",
   "execution_count": 3,
   "id": "c5633eb5",
   "metadata": {},
   "outputs": [
    {
     "name": "stdout",
     "output_type": "stream",
     "text": [
      "[('This', 'PRON'), ('is', 'AUX'), ('a', 'DET'), ('sentence', 'NOUN'), ('.', 'PUNCT')]\n"
     ]
    }
   ],
   "source": [
    "doc = nlp(\"This is a sentence.\")\n",
    "print([(w.text, w.pos_) for w in doc])"
   ]
  },
  {
   "cell_type": "code",
   "execution_count": 4,
   "id": "f9829eb8",
   "metadata": {},
   "outputs": [
    {
     "name": "stdout",
     "output_type": "stream",
     "text": [
      "['He', 'did', \"n't\", 'want', 'to', 'pay', '$', '20', 'for', 'this', 'book', '.']\n"
     ]
    }
   ],
   "source": [
    "# rest is from https://colab.research.google.com/github/futuremojo/nlp-demystified/blob/main/notebooks/nlpdemystified_preprocessing.ipynb#scrollTo=BIoEJZ-IkHQ4\n",
    "s = \"He didn't want to pay $20 for this book.\"\n",
    "doc = nlp(s)\n",
    "print([t.text for t in doc])"
   ]
  },
  {
   "cell_type": "code",
   "execution_count": 5,
   "id": "943cd407",
   "metadata": {},
   "outputs": [
    {
     "name": "stdout",
     "output_type": "stream",
     "text": [
      "[He, 'told', 'dr.', 'cook', 'that', 'he', 'was', 'done', 'with', 'the', 'tests', 'and', 'would', 'cook', 'the', 'results', 'shortly', '.']\n"
     ]
    }
   ],
   "source": [
    "s = \"He told Dr. Cook that he was done with the tests and would cook the results shortly.\"\n",
    "doc = nlp(s)\n",
    "print([t.lower_ if not t.is_sent_start else t for t in doc]) # might mess up if Cook and cook are diff things, but would save vocab size"
   ]
  },
  {
   "cell_type": "code",
   "execution_count": 6,
   "id": "c3be9f0e",
   "metadata": {},
   "outputs": [
    {
     "name": "stdout",
     "output_type": "stream",
     "text": [
      "{'ourselves', 'those', 'really', 'thereby', 'without', 'between', 'n’t', 'few', 'where', 'when', 'six', \"'d\", 'go', 'anyway', 'eight', 'may', 'show', 'to', 'were', 'again', 'therefore', 'beyond', 'toward', 'former', 'often', 'each', 'its', 'throughout', 'whereupon', 'formerly', 'take', 'please', 're', 'has', 'least', 'besides', 'whether', 'via', '’re', 'several', 'move', 'who', 'more', 'can', '’s', 'quite', 'third', '‘m', 'therein', 'whereafter', 'anyhow', 'because', 'herein', 'among', '’d', 'part', 'never', 'though', 'unless', 'such', 'there', 'during', 'once', 'along', 'over', 'he', 'both', 'side', 'you', 'meanwhile', 'above', 'from', 'would', 'done', '‘ve', '‘s', 'first', 'twelve', 'except', 'amongst', 'since', 'say', 'whence', 'could', 'only', 'noone', 'three', 'beside', 'your', 'hereafter', 'alone', 'a', 'nevertheless', 'i', 'itself', 'him', 'wherein', 'through', \"'ll\", 'very', 'using', 'become', 'their', 'thereafter', 'it', 'did', 'our', 'should', 'anyone', 'twenty', 'used', 'out', 'this', 'whither', 'am', 'yourself', 'enough', 'hers', 'much', 'whenever', 'how', 'have', 'with', 'now', 'so', 'which', 'everything', 'give', '’m', 'bottom', 'see', 'serious', 'below', 'sixty', 'none', 'back', 'upon', 'per', 'behind', 'under', 'anywhere', 'made', 'yet', 'was', 'sometime', 'same', 'but', 'together', 'nine', 'fifteen', 'empty', 'just', 'until', 'two', 'top', 'front', 'as', 'although', 'yours', 'she', 'call', 'whom', 'what', 'whereas', 'been', 'amount', 'might', 'some', 'do', 'why', 'is', 'name', 'had', 'thence', 'well', \"n't\", 'are', 'seeming', 'or', 'then', '‘ll', 'five', 'while', 'not', 'here', 'an', 'by', 'anything', 'doing', 'ever', '’ll', 'ten', 'hence', '‘re', 'within', 'of', 'at', 'everywhere', 'about', 'beforehand', 'even', 'them', 'us', 'almost', 'latter', 'afterwards', 'another', 'nowhere', 'after', 'n‘t', 'they', 'nor', 'regarding', 'others', 'seems', 'whose', 'before', 'his', 'put', 'most', 'eleven', 'whoever', 'no', 'keep', 'in', 'himself', 'somewhere', 'hundred', 'moreover', 'onto', 'thus', 'whatever', 'the', 'seem', 'four', '‘d', 'sometimes', \"'ve\", 'up', 'became', 'always', 'and', 'myself', 'latterly', 'yourselves', '’ve', 'thereupon', 'will', 'various', 'either', 'themselves', 'cannot', 'due', 'make', 'also', 'be', 'all', 'me', 'get', 'ca', 'someone', 'that', 'still', 'thru', \"'re\", 'becoming', 'ours', 'down', 'however', 'nobody', 'hereby', 'her', 'somehow', 'across', \"'s\", 'mine', 'namely', 'into', 'mostly', 'towards', 'many', 'everyone', 'being', 'seemed', 'must', 'last', 'full', 'elsewhere', 'on', 'perhaps', 'if', 'hereupon', 'becomes', 'fifty', 'otherwise', 'already', 'every', 'against', 'these', 'one', 'any', 'whole', \"'m\", 'we', 'less', 'else', 'forty', 'further', 'something', 'for', 'next', 'does', 'other', 'herself', 'indeed', 'rather', 'than', 'neither', 'nothing', 'whereby', 'off', 'own', 'too', 'around', 'my', 'wherever'}\n",
      "326\n",
      "[told, Dr., Cook, tests, cook, results, shortly, .]\n"
     ]
    }
   ],
   "source": [
    "# spaCy's default stop word list.\n",
    "print(nlp.Defaults.stop_words)\n",
    "print(len(nlp.Defaults.stop_words))\n",
    "print([t for t in doc if not t.is_stop])"
   ]
  },
  {
   "cell_type": "code",
   "execution_count": 7,
   "id": "c6a07aaf",
   "metadata": {},
   "outputs": [
    {
     "name": "stdout",
     "output_type": "stream",
     "text": [
      "He\n",
      "<class 'spacy.tokens.token.Token'>\n",
      "He told Dr.\n",
      "<class 'spacy.tokens.span.Span'>\n",
      "He told Dr. Cook that he was done with the tests and would cook the results shortly.\n"
     ]
    }
   ],
   "source": [
    "print(doc[0])\n",
    "print(type(doc[0]))\n",
    "print(doc[0:3])\n",
    "print(type(doc[0:3]))\n",
    "print(doc.text)"
   ]
  },
  {
   "cell_type": "code",
   "execution_count": 8,
   "id": "ac7ab332",
   "metadata": {},
   "outputs": [
    {
     "name": "stdout",
     "output_type": "stream",
     "text": [
      "[Either the well was very deep, or she fell very slowly, for she \n",
      "had plenty of time as she went down to look about her and to wonder what \n",
      "was going to happen next., First, she tried to look down and make out what \n",
      "she was coming to, but it was too dark to see anything; then she looked at \n",
      "the sides of the well, and noticed that they were filled with cupboards and \n",
      "book-shelves; here and there she saw maps and pictures hung upon pegs.]\n",
      "Either the well was very deep, or she fell very slowly, for she \n",
      "had plenty of time as she went down to look about her and to wonder what \n",
      "was going to happen next.\n"
     ]
    }
   ],
   "source": [
    "s = \"\"\"Either the well was very deep, or she fell very slowly, for she \n",
    "had plenty of time as she went down to look about her and to wonder what \n",
    "was going to happen next. First, she tried to look down and make out what \n",
    "she was coming to, but it was too dark to see anything; then she looked at \n",
    "the sides of the well, and noticed that they were filled with cupboards and \n",
    "book-shelves; here and there she saw maps and pictures hung upon pegs.\"\"\"\n",
    "\n",
    "doc = nlp(s)\n",
    "\n",
    "# Look at individual sentences (there should be two 'Span' objects).\n",
    "print(list(doc.sents))\n",
    "print(list(doc.sents)[0])\n"
   ]
  },
  {
   "cell_type": "code",
   "execution_count": 9,
   "id": "ad0958ab",
   "metadata": {},
   "outputs": [
    {
     "name": "stdout",
     "output_type": "stream",
     "text": [
      "['$20']\n"
     ]
    }
   ],
   "source": [
    "# some excercizes\n",
    "\n",
    "# get all currencies\n",
    "# Expected output: \"$20\".\n",
    "s = \"He didn't want to pay $20 for this book.\"\n",
    "doc = nlp(s)\n",
    "ans = [doc[i].text + doc[i + 1].text for i in range(len(doc) - 1) if doc[i].is_currency and doc[i + 1].like_num]\n",
    "print(ans)"
   ]
  },
  {
   "cell_type": "code",
   "execution_count": 10,
   "id": "e1ac81cd",
   "metadata": {},
   "outputs": [
    {
     "name": "stdout",
     "output_type": "stream",
     "text": [
      "['gimme', 'that']\n",
      "['gim', 'me', 'that']\n"
     ]
    }
   ],
   "source": [
    "# custom rules\n",
    "from spacy.symbols import ORTH\n",
    "\n",
    "nlp = spacy.load(\"en_core_web_sm\")\n",
    "doc = nlp(\"gimme that\")  # phrase to tokenize\n",
    "print([w.text for w in doc])  # ['gimme', 'that']\n",
    "\n",
    "# Add special case rule\n",
    "special_case = [{ORTH: \"gim\"}, {ORTH: \"me\"}]\n",
    "nlp.tokenizer.add_special_case(\"gimme\", special_case)\n",
    "\n",
    "# Check new tokenization\n",
    "print([w.text for w in nlp(\"gimme that\")])  # ['gim', 'me', 'that']\n",
    "\n",
    "nlp.tokenizer.add_special_case(\"...gimme...?\", [{\"ORTH\": \"...gimme...?\"}])"
   ]
  },
  {
   "cell_type": "code",
   "execution_count": null,
   "id": "b0085c09",
   "metadata": {},
   "outputs": [],
   "source": []
  }
 ],
 "metadata": {
  "kernelspec": {
   "display_name": "torch",
   "language": "python",
   "name": "python3"
  },
  "language_info": {
   "codemirror_mode": {
    "name": "ipython",
    "version": 3
   },
   "file_extension": ".py",
   "mimetype": "text/x-python",
   "name": "python",
   "nbconvert_exporter": "python",
   "pygments_lexer": "ipython3",
   "version": "3.11.9"
  }
 },
 "nbformat": 4,
 "nbformat_minor": 5
}
