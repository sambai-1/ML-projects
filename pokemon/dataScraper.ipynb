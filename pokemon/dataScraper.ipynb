{
 "cells": [
  {
   "cell_type": "code",
   "execution_count": 1,
   "id": "54e53eec",
   "metadata": {},
   "outputs": [],
   "source": [
    "import requests\n",
    "from bs4 import BeautifulSoup\n",
    "import pandas as pd"
   ]
  },
  {
   "cell_type": "code",
   "execution_count": 70,
   "id": "cfa54e4e",
   "metadata": {},
   "outputs": [],
   "source": [
    "legendary_pokedex = requests.get(\"https://pokemon.fandom.com/wiki/Legendary_Pok%C3%A9mon\")\n",
    "soup = BeautifulSoup(legendary_pokedex.text, 'html.parser')\n",
    "tables = soup.find_all(\"table\", {'class': 'article-table'})\n",
    "legendary_pokemon = set()\n",
    "for table in tables[:-1]:\n",
    "    rows = table.find('tbody').find_all('tr')\n",
    "    for row in rows[1:]:\n",
    "        row_data = row.find_all('td')\n",
    "        pokemon_data = [data.text.strip() for data in row_data]\n",
    "        legendary_pokemon.add(pokemon_data[2])"
   ]
  },
  {
   "cell_type": "code",
   "execution_count": 71,
   "id": "1abbf852",
   "metadata": {},
   "outputs": [],
   "source": [
    "pokedex = requests.get(\"https://pokemondb.net/pokedex/all\")\n",
    "soup = BeautifulSoup(pokedex.text, 'html.parser')\n",
    "table = soup.find('table', {'id': 'pokedex'})"
   ]
  },
  {
   "cell_type": "code",
   "execution_count": 72,
   "id": "a3866a50",
   "metadata": {},
   "outputs": [],
   "source": [
    "titles = soup.find_all('div', {'class': 'sortwrap'})"
   ]
  },
  {
   "cell_type": "code",
   "execution_count": 73,
   "id": "56cac648",
   "metadata": {},
   "outputs": [],
   "source": [
    "table_titles = [title.text for title in titles]\n",
    "type_index = table_titles.index('Type')\n",
    "table_titles[type_index] = 'Type 1'\n",
    "table_titles.insert(type_index + 1, 'Type 2')\n",
    "table_titles.append('Legendary')"
   ]
  },
  {
   "cell_type": "code",
   "execution_count": 74,
   "id": "7900dbb5",
   "metadata": {},
   "outputs": [],
   "source": [
    "pokemon = pd.DataFrame(columns=table_titles)"
   ]
  },
  {
   "cell_type": "code",
   "execution_count": 75,
   "id": "a4bb782e",
   "metadata": {},
   "outputs": [],
   "source": [
    "rows = table.find('tbody').find_all('tr')"
   ]
  },
  {
   "cell_type": "code",
   "execution_count": 79,
   "id": "a834c1e6",
   "metadata": {},
   "outputs": [],
   "source": [
    "for row in rows:\n",
    "    row_data = row.find_all('td')\n",
    "    pokemon_data = [data.text.strip() for data in row_data]\n",
    "    types = pokemon_data[2].split(' ')\n",
    "    pokemon_data[2] = types[0]\n",
    "    if len(types) > 1:\n",
    "        pokemon_data.insert(3, types[1])\n",
    "    else:\n",
    "        pokemon_data.insert(3, 'None')\n",
    "    if pokemon_data[1] in legendary_pokemon:\n",
    "        pokemon_data.append('True')\n",
    "    else:\n",
    "        pokemon_data.append('False')\n",
    "\n",
    "    pokemon.loc[len(pokemon)] = pokemon_data\n"
   ]
  },
  {
   "cell_type": "code",
   "execution_count": 81,
   "id": "6dd13204",
   "metadata": {},
   "outputs": [],
   "source": [
    "pokemon.to_csv(r'./pokemon_data.csv', index = False)"
   ]
  },
  {
   "cell_type": "code",
   "execution_count": null,
   "id": "572aab0d",
   "metadata": {},
   "outputs": [],
   "source": []
  }
 ],
 "metadata": {
  "kernelspec": {
   "display_name": "base",
   "language": "python",
   "name": "python3"
  },
  "language_info": {
   "codemirror_mode": {
    "name": "ipython",
    "version": 3
   },
   "file_extension": ".py",
   "mimetype": "text/x-python",
   "name": "python",
   "nbconvert_exporter": "python",
   "pygments_lexer": "ipython3",
   "version": "3.12.7"
  }
 },
 "nbformat": 4,
 "nbformat_minor": 5
}
